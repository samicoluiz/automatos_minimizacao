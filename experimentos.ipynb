{
 "cells": [
  {
   "cell_type": "code",
   "execution_count": 9,
   "metadata": {},
   "outputs": [],
   "source": [
    "from collections import deque\n",
    "from itertools import accumulate\n",
    "\n",
    "\n",
    "class Automato:\n",
    "    \"\"\"Implementa um automato finito determinístico (AFD) que obedece a \n",
    "    seguinte definição:\n",
    "    M = (Q, Σ, δ, q0, F)\n",
    "    Q: Conjunto finito de estados\n",
    "    Σ: Alfabeto\n",
    "    δ: Função de transição\n",
    "    q0: Estado inicial\n",
    "    F: Conjunto de estados finai\n",
    "    \"\"\"\n",
    "    \n",
    "    estados_finitos: set[str]\n",
    "    alfabeto: set[str]\n",
    "    transicoes: dict[dict[str, str]]\n",
    "    estado_inicial: str\n",
    "    conj_estados_finais: set[str]\n",
    "    fita: deque[str]\n",
    "\n",
    "    def __init__(self, estados_finitos, alfabeto, transicoes,\n",
    "                estado_inicial, conj_estados_finais):\n",
    "        self.estados_finitos: set = estados_finitos\n",
    "        self.alfabeto: set = alfabeto\n",
    "        self.transicoes = transicoes\n",
    "        self.estado_inicial = estado_inicial\n",
    "        self.estados_finais = conj_estados_finais\n",
    "        self.fita = deque()\n",
    "        self.cursor = 0\n",
    "        self.maquina_estados: MaquinaEstados = MaquinaEstados(self)\n",
    "\n",
    "    def __repr__(self) -> str:\n",
    "        return f\"\"\"\\\n",
    "        M = (Q, Σ, δ, q0, F)\n",
    "        Q: {{{','.join(self.estados_finitos)}}}\n",
    "        Σ: {{{self.alfabeto}}}\n",
    "        δ: {self.maquina_estados.transicao}\n",
    "        q0: {self.estado_inicial}\n",
    "        F: {self.estados_finais}\\\n",
    "        \"\"\"\n",
    "    \n",
    "    def __eq__(self, o: \"Automato\") -> bool:\n",
    "        \"\"\"Retorna True se os dois automatos forem equivalentes.\"\"\"\n",
    "        # Aqui é preciso aplicar a técnica de minimização em ambos \n",
    "        # automatos, o que implica implementar 1. os algoritmos de remoção\n",
    "        # de transições em vazio; 2. de remoção de não-determinismos;\n",
    "        # 3. de remoção de estados inúteis ou inacessíveis, e o\n",
    "        # algoritmo de minimização, nesta ordem.\n",
    "        #\n",
    "        # minimo_self = self.rm_transicoes_vazio().rm_nao_determinismo().rm_estados_inuteis()\n",
    "        # minimo_o = o.rm_transicoes_vazio().rm_nao_determinismo().rm_estados_inuteis()\n",
    "        pass\n",
    "\n",
    "    def escrever_fita(self, cadeia: str) -> None:\n",
    "        \"\"\"Escreve uma cadeia de caracteres na fita.\"\"\"\n",
    "        self.fita.clear()\n",
    "        self.fita = deque(cadeia)\n",
    "        self.fita.append(\"\\0\")\n",
    "    \n",
    "    def ler_celula(self) -> str:\n",
    "        \"\"\"Retorna o conteudo da celula atual da fita.\"\"\"\n",
    "        self.cursor += 1\n",
    "        return self.fita.pop()\n",
    "\n",
    "    def reconhecer_cadeia(self, cadeia) -> bool:\n",
    "        \"\"\"Recebe uma cadeia de caracteres e retorna True se a cadeia \n",
    "        for aceita pelo automato.\n",
    "        \"\"\"\n",
    "        return self.maquina_estados.reconhecer_cadeia(cadeia)\n",
    "    \n",
    "    def rm_transicoes_vazio(self) -> \"Automato\":\n",
    "        \"\"\"Retorna um novo automato sem transições em vazio.\"\"\"\n",
    "        # TODO\n",
    "        pass\n",
    "\n",
    "    def rm_nao_determinismo(self) -> \"Automato\":\n",
    "        \"\"\"Retorna um novo automato sem não-determinismos.\"\"\"\n",
    "        # TODO\n",
    "        pass\n",
    "\n",
    "    def rm_estados_inuteis(self) -> \"Automato\":\n",
    "        \"\"\"Retorna um novo automato sem estados inuteis.\"\"\"\n",
    "        # TODO\n",
    "        pass\n",
    "\n",
    "\n",
    "#Maquina de estados\n",
    "class MaquinaEstados():\n",
    "    \"\"\"Classe que implementa uma máquina de estados finitos \n",
    "    determinística por composição da classe Automato.\n",
    "    \"\"\"\n",
    "    \n",
    "    funcao_transicao: dict[dict[str, str]]\n",
    "    estado_inicial: str\n",
    "    estados_finais: set[str]\n",
    "\n",
    "\n",
    "    def __init__(self, automato: Automato):\n",
    "        self.transicao = automato.transicoes\n",
    "        self.estados_finais = automato.estados_finais\n",
    "        self.estado_inical = automato.estado_inicial\n",
    "        self.__estado_atual = automato.estado_inicial\n",
    "        self.cadeia_restante = None\n",
    "        self.posicao_cursor = 0\n",
    "        self.movimentos = list()\n",
    "    \n",
    "    def config_seguinte(self, simbolo):\n",
    "        \"\"\"Aplica a função de transição δ(p, σ) -> q.\"\"\"\n",
    "        self.__estado_atual = self.transicao[self.__estado_atual][simbolo]\n",
    "\n",
    "    # Opcao com recurcao\n",
    "    def reconhecer_cadeia(self, cadeia):\n",
    "        \"\"\"Reconhece uma cadeia inteira na fita, de acordo com a \n",
    "        função de transição.\n",
    "        \"\"\"\n",
    "\n",
    "        if self.cadeia_restante == None:\n",
    "            self.movimentos = []\n",
    "            self.movimentos.append((self.__estado_atual, cadeia))\n",
    "        \n",
    "        resultado = False\n",
    "        if (self.__estado_atual, cadeia[0]) in self.transicao.keys():\n",
    "        \n",
    "            self.__estado_atual = self.transicao[(self.__estado_atual, cadeia[0])]\n",
    "            self.cadeia_restante = cadeia[1:]\n",
    "            self.movimentos.append((self.__estado_atual, self.cadeia_restante))\n",
    "            if self.cadeia_restante == \"\":\n",
    "                return True if self.__estado_atual in self.estados_finais else False\n",
    "            else:\n",
    "                resultado = self.reconhecer_cadeia(self.cadeia_restante)\n",
    "        else:            \n",
    "            return False\n",
    "        self.__estado_atual = self.estado_inical\n",
    "        self.cadeia_restante = None\n",
    "        return resultado\n"
   ]
  },
  {
   "cell_type": "code",
   "execution_count": 10,
   "metadata": {},
   "outputs": [],
   "source": [
    "estados = set([\"q0\", \"q1\", \"q2\", \"q3\"])\n",
    "alfabeto = set(['0', '1', '2'])\n",
    "funcao_de_transicao = {\n",
    "    ('q0', '0'): 'q0',\n",
    "    ('q0', '1'): 'q1',\n",
    "    ('q0', '2'): 'q3',\n",
    "    ('q1', '0'): 'q3',\n",
    "    ('q1', '1'): 'q1',\n",
    "    ('q1', '2'): 'q2',\n",
    "    ('q2', '0'): 'q3',\n",
    "    ('q2', '1'): 'q3',\n",
    "    ('q2', '2'): 'q2',\n",
    "    ('q3', '0'): 'q3',\n",
    "    ('q3', '1'): 'q3',\n",
    "    ('q3', '2'): 'q3',\n",
    "}\n",
    "estado_inicial = 'q0'\n",
    "estados_finais = set(['q1', 'q2'])"
   ]
  },
  {
   "cell_type": "code",
   "execution_count": 11,
   "metadata": {},
   "outputs": [],
   "source": [
    "automato_1 = Automato(estados, alfabeto, funcao_de_transicao, estado_inicial, estados_finais)"
   ]
  },
  {
   "cell_type": "code",
   "execution_count": 12,
   "metadata": {},
   "outputs": [
    {
     "name": "stdout",
     "output_type": "stream",
     "text": [
      "True\n"
     ]
    }
   ],
   "source": [
    "print(automato_1.reconhecer_cadeia('0001112'))"
   ]
  },
  {
   "cell_type": "code",
   "execution_count": 13,
   "metadata": {},
   "outputs": [
    {
     "name": "stdout",
     "output_type": "stream",
     "text": [
      "deque(['0', '0', '0', '1', '1', '1', '2', '\\x00'])\n"
     ]
    }
   ],
   "source": [
    "automato_1.escrever_fita('0001112')\n",
    "print(automato_1.fita)"
   ]
  },
  {
   "cell_type": "code",
   "execution_count": 14,
   "metadata": {},
   "outputs": [
    {
     "name": "stdout",
     "output_type": "stream",
     "text": [
      "deque(['0', '0', '0', '1', '1', '1', '2', '\\x00', '\\x00'])\n"
     ]
    }
   ],
   "source": [
    "from collections import deque\n",
    "\n",
    "def escrever_fita(fita: deque, cadeia: str) -> None:\n",
    "    \"\"\"Escreve uma cadeia de caracteres na fita.\"\"\"\n",
    "    fita.clear()\n",
    "    fita = deque(cadeia)\n",
    "    fita.append(\"\\0\")\n",
    "    return fita\n",
    "\n",
    "fita = deque()\n",
    "fita = escrever_fita(fita, \"0001112\")\n",
    "fita.append(\"\\0\")\n",
    "print(fita)\n"
   ]
  },
  {
   "cell_type": "code",
   "execution_count": 15,
   "metadata": {},
   "outputs": [],
   "source": [
    "funcao_de_transicao2 = {\n",
    "    'q0': {\n",
    "        '0': 'q0',\n",
    "        '1': 'q1',\n",
    "        '2': 'q3',\n",
    "    },\n",
    "    'q1': {\n",
    "        '0': 'q3',\n",
    "        '1': 'q1',\n",
    "        '2': 'q2',\n",
    "    },\n",
    "    'q2': {\n",
    "        '0': 'q3',\n",
    "        '1': 'q3',\n",
    "        '2': 'q2',\n",
    "    },\n",
    "    'q3': {\n",
    "        '0': 'q3',\n",
    "        '1': 'q3',\n",
    "        '2': 'q3',\n",
    "    },    \n",
    "}"
   ]
  },
  {
   "cell_type": "code",
   "execution_count": 16,
   "metadata": {},
   "outputs": [
    {
     "name": "stdout",
     "output_type": "stream",
     "text": [
      "q3\n"
     ]
    }
   ],
   "source": [
    "from itertools import accumulate\n",
    "from collections import deque\n",
    "from functools import reduce\n",
    "\n",
    "def muda_estado(estado_atual, simbolo) -> str:\n",
    "    estado_atual = funcao_de_transicao2[estado_atual][simbolo]\n",
    "    return estado_atual\n",
    "\n",
    "estado_atual = \"q0\"\n",
    "estado_atual = muda_estado(estado_atual, \"2\")\n",
    "print(estado_atual)\n"
   ]
  },
  {
   "cell_type": "code",
   "execution_count": 17,
   "metadata": {},
   "outputs": [],
   "source": [
    "cadeia = deque(\"0001112\")\n",
    "transicoes = accumulate(cadeia, muda_estado, initial='q0')\n",
    "transicoes2 = reduce(muda_estado, cadeia, 'q0')\n",
    "# print(list(transicoes))\n"
   ]
  },
  {
   "cell_type": "code",
   "execution_count": 18,
   "metadata": {},
   "outputs": [
    {
     "name": "stdout",
     "output_type": "stream",
     "text": [
      "True\n",
      "[('q0', '0011222'), ('q0', '011222'), ('q0', '11222'), ('q1', '1222'), ('q1', '222'), ('q2', '22'), ('q2', '2'), ('q2', '')]\n",
      "[('q0', '0011222') ⊢ ('q0', '011222') ⊢ ('q0', '11222') ⊢ ('q1', '1222') ⊢ ('q1', '222') ⊢ ('q2', '22') ⊢ ('q2', '2') ⊢ ('q2', '')]\n"
     ]
    }
   ],
   "source": [
    "print(automato_1.reconhecer_cadeia(\"0011222\"))\n",
    "print(automato_1.maquina_estados.movimentos)\n",
    "print(str(automato_1.maquina_estados.movimentos).replace(\"), \", \") ⊢ \"))\n",
    "\n"
   ]
  },
  {
   "cell_type": "code",
   "execution_count": 19,
   "metadata": {},
   "outputs": [
    {
     "data": {
      "text/plain": [
       "array({'q0': {'0': 'q0', '1': 'q1', '2': 'q3'}, 'q1': {'0': 'q3', '1': 'q1', '2': 'q2'}, 'q2': {'0': 'q3', '1': 'q3', '2': 'q2'}, 'q3': {'0': 'q3', '1': 'q3', '2': 'q3'}},\n",
       "      dtype=object)"
      ]
     },
     "execution_count": 19,
     "metadata": {},
     "output_type": "execute_result"
    }
   ],
   "source": [
    "import pandas as pd\n",
    "import numpy as np\n",
    "\n",
    "df = np.array(funcao_de_transicao2)\n",
    "df.T\n",
    "# testess"
   ]
  },
  {
   "attachments": {},
   "cell_type": "markdown",
   "metadata": {},
   "source": [
    "#### Conversão de RegEx em AFND\n",
    "O autômato finito não-determinístico que aceita a linguagem definida por r pode ser obtido através da aplicação do algoritmo a seguir que especifica as regras de mapeamento parciais que abrangem casos triviais de sentenças (itens 1, 2 e 3) e cada um dos operadores de união (4), concatenação (5) e fechamento (6)\n",
    "\n",
    "Obs:. F são finais de segmento\n",
    "```\n",
    "Casos triviais:\n",
    "1. ->   q0: {\n",
    "        ε: q1\n",
    "        }\n",
    "        Q = {q0, q1}\n",
    "        F = {q1}\n",
    "\n",
    "2. ->   q0: {\n",
    "        NULL:q0\n",
    "        }\n",
    "        Q = {q0, q1}\n",
    "        F = {q1}\n",
    "\n",
    "3. ->   q0: {\n",
    "        σ: q1\n",
    "        }\n",
    "        Q = {q0, q1}\n",
    "        F = {q1}\n",
    "\n",
    "Operadores:\n",
    "4. a|b = {\n",
    "    q0: {\n",
    "        ε: q1,\n",
    "        ε: q2,\n",
    "    },\n",
    "    q1: {\n",
    "        a: q2\n",
    "    },\n",
    "    q3: {\n",
    "        b: q4\n",
    "    },\n",
    "    q4: {\n",
    "        ε: q5\n",
    "    },\n",
    "    q2: {\n",
    "        ε: q5\n",
    "    }\n",
    "}\n",
    "    Q = {q0, q1, q2, q3, q4, q5}\n",
    "    F = {q5}\n",
    "\n",
    "5. ab = {\n",
    "    q0: {\n",
    "        a: q1\n",
    "    },\n",
    "    q1: {\n",
    "        ε: q2\n",
    "    },\n",
    "    q2: {\n",
    "        b: q3\n",
    "    },\n",
    "    q3: {\n",
    "        ε: q4\n",
    "    }\n",
    "}\n",
    "    Q = {q0, q1, q2, q3, q4}\n",
    "    F = {q4}\n",
    "\n",
    "6. a* = {\n",
    "    q0: {\n",
    "       ε: q1,\n",
    "       ε: q5, \n",
    "    }\n",
    "    q1: {\n",
    "        ε: q2\n",
    "    },\n",
    "    q2: {\n",
    "        ε: q3\n",
    "    },\n",
    "    q3: {\n",
    "        ε: q4\n",
    "    },\n",
    "    q4: {\n",
    "        ε: q5,\n",
    "        ε: q1\n",
    "    }\n",
    "}\n",
    "    Q = {q0, q1, q2, q3, q4, q5}\n",
    "    F = {q5}\n",
    "```"
   ]
  },
  {
   "attachments": {},
   "cell_type": "markdown",
   "metadata": {},
   "source": [
    "passo-a-passo: \n",
    "1. encontrar os parenteses e resolver as expressões.\n",
    "2. aplicar a funcao a cada membro da expressão regular.\n"
   ]
  },
  {
   "cell_type": "code",
   "execution_count": 20,
   "metadata": {},
   "outputs": [],
   "source": [
    "# expressao = \"ab*\"\n",
    "\n",
    "# for simbolo in regex:\n",
    "#     if simbolo == \"(\":\n",
    "#         regex.index(simbolo)\n",
    "#         regex.index(\")\")\n",
    "#         pass\n",
    "\n"
   ]
  },
  {
   "cell_type": "code",
   "execution_count": 21,
   "metadata": {},
   "outputs": [
    {
     "name": "stdout",
     "output_type": "stream",
     "text": [
      "{'q0': {'ε0': 'q01', 'ε1': 'q02'}, 'q1': {'a': 'q01'}, 'q03': {'b': 'q01'}, 'q04': {'ε2': 'q05'}, 'q02': {'ε3': 'q05'}}\n"
     ]
    }
   ],
   "source": [
    "def criar_dict_OR(estado_atual: str, operando: tuple[str, str]) -> dict[str,dict[str,str]]:\n",
    "    \"\"\"Cria um dicionario de transições para o operador OR.\"\"\"\n",
    "    dict_OR = dict()\n",
    "    dict_OR[estado_atual] = dict()\n",
    "    dict_OR[estado_atual][\"ε0\"] = estado_atual + \"1\"\n",
    "    dict_OR[estado_atual][\"ε1\"] = estado_atual + \"2\"\n",
    "    \n",
    "    dict_OR[estado_atual[0] + f\"{int(estado_atual[1])+1}\"] = dict()\n",
    "    dict_OR[estado_atual[0] + f\"{int(estado_atual[1])+1}\"][operando[0]] = estado_atual + \"1\"\n",
    "    \n",
    "    dict_OR[estado_atual+ f\"{int(estado_atual[1])+3}\"] = dict()\n",
    "    dict_OR[estado_atual+ f\"{int(estado_atual[1])+3}\"][operando[1]] = estado_atual + \"1\"\n",
    "    \n",
    "    dict_OR[estado_atual+ f\"{int(estado_atual[1])+4}\"] = dict()\n",
    "    dict_OR[estado_atual+ f\"{int(estado_atual[1])+4}\"][\"ε2\"] = estado_atual + \"5\"\n",
    "    \n",
    "    dict_OR[estado_atual+ f\"{int(estado_atual[1])+2}\"] = dict()\n",
    "    dict_OR[estado_atual+ f\"{int(estado_atual[1])+2}\"][\"ε3\"] = estado_atual + \"5\"\n",
    "    return dict_OR\n",
    "\n",
    "print(criar_dict_OR(\"q0\", (\"a\", \"b\")))\n",
    "\n",
    "#     q0: {\n",
    "#         ε: q1,\n",
    "#         ε: q2,\n",
    "#     },\n",
    "#     q1: {\n",
    "#         a: q2\n",
    "#     },\n",
    "#     q3: {\n",
    "#         b: q4\n",
    "#     },\n",
    "#     q4: {\n",
    "#         ε: q5\n",
    "#     },\n",
    "#     q2: {\n",
    "#         ε: q5\n",
    "#     }"
   ]
  },
  {
   "attachments": {},
   "cell_type": "markdown",
   "metadata": {},
   "source": [
    "#### Implementação usando namedtuples (mais barata)"
   ]
  },
  {
   "cell_type": "code",
   "execution_count": 47,
   "metadata": {},
   "outputs": [
    {
     "data": {
      "text/html": [
       "<div>\n",
       "<style scoped>\n",
       "    .dataframe tbody tr th:only-of-type {\n",
       "        vertical-align: middle;\n",
       "    }\n",
       "\n",
       "    .dataframe tbody tr th {\n",
       "        vertical-align: top;\n",
       "    }\n",
       "\n",
       "    .dataframe thead th {\n",
       "        text-align: right;\n",
       "    }\n",
       "</style>\n",
       "<table border=\"1\" class=\"dataframe\">\n",
       "  <thead>\n",
       "    <tr style=\"text-align: right;\">\n",
       "      <th></th>\n",
       "      <th>c</th>\n",
       "      <th>d</th>\n",
       "      <th>epsilon</th>\n",
       "    </tr>\n",
       "  </thead>\n",
       "  <tbody>\n",
       "    <tr>\n",
       "      <th>q00</th>\n",
       "      <td></td>\n",
       "      <td></td>\n",
       "      <td>(q01, q02)</td>\n",
       "    </tr>\n",
       "    <tr>\n",
       "      <th>q01</th>\n",
       "      <td>q02</td>\n",
       "      <td></td>\n",
       "      <td></td>\n",
       "    </tr>\n",
       "    <tr>\n",
       "      <th>q02</th>\n",
       "      <td></td>\n",
       "      <td></td>\n",
       "      <td>q05</td>\n",
       "    </tr>\n",
       "    <tr>\n",
       "      <th>q03</th>\n",
       "      <td></td>\n",
       "      <td>q04</td>\n",
       "      <td></td>\n",
       "    </tr>\n",
       "    <tr>\n",
       "      <th>q04</th>\n",
       "      <td></td>\n",
       "      <td></td>\n",
       "      <td>q05</td>\n",
       "    </tr>\n",
       "  </tbody>\n",
       "</table>\n",
       "</div>"
      ],
      "text/plain": [
       "       c    d     epsilon\n",
       "q00            (q01, q02)\n",
       "q01  q02                 \n",
       "q02                   q05\n",
       "q03       q04            \n",
       "q04                   q05"
      ]
     },
     "execution_count": 47,
     "metadata": {},
     "output_type": "execute_result"
    }
   ],
   "source": [
    "from collections import namedtuple\n",
    "\n",
    "def construir_transicoes(alfabeto: str, epsilon=False) -> namedtuple:\n",
    "    \"\"\"Constrói uma namedtuple com o alfabeto da linguagem e se o\n",
    "    automato aceita transições vazias.\n",
    "        Args:\n",
    "            alfabeto (str) -- Alfabeto da linguagem.\n",
    "            epsilon (bool, optional) -- Se o automato aceita transições \n",
    "                                        vazias. Defaults to False.\n",
    "        Returns:\n",
    "            namedtuple: Tupla com o alfabeto e se aceita transições vazias.\n",
    "    \"\"\"\n",
    "    fields = f'{\" \".join(alfabeto) + (\" epsilon\" if epsilon else \"\")}'\n",
    "    alfabeto_tuple = namedtuple('transita', fields)\n",
    "    return alfabeto_tuple\n",
    "\n",
    "def construir_bloco_or(a: str, b: str, n: int) -> namedtuple:\n",
    "    \"\"\"Constrói um bloco de transições para o operador OR de acordo com\n",
    "    o algoritmo de Thompson.\n",
    "        Args:\n",
    "            a (str) -- Primeiro operando.\n",
    "            b (str) -- Segundo operando.\n",
    "            n (int) -- Número do bloco.\n",
    "        Returns:\n",
    "            namedtuple: Tupla com os estados do bloco.\n",
    "    \"\"\"\n",
    "    transicoes = construir_transicoes(f\"{a}{b}\", epsilon=True)\n",
    "    bloco_or = namedtuple('estado', f'q{n}0 q{n}1 q{n}2 q{n}3 q{n}4')\n",
    "\n",
    "    q0 = transicoes('','',(f'q{n}1', f'q{n}2'))\n",
    "    q1 = transicoes(f'q{n}2','','')\n",
    "    q2 = transicoes('','',f'q{n}5')\n",
    "    q3 = transicoes('',f'q{n}4','')\n",
    "    q4 = transicoes('','',f'q{n}5')\n",
    "\n",
    "    return bloco_or(q0, q1, q2, q3, q4)\n",
    "\n",
    "def construir_fecho(simbolo: str) -> namedtuple:\n",
    "    \"\"\"Constrói um bloco de transições para o operador de fecho de Kleene\n",
    "    de acordo com o algoritmo de Thompson.\n",
    "        Args:\n",
    "            simbolo (str) -- operando do operador de fecho de Kleene.\n",
    "        Returns:\n",
    "            namedtuple: Tupla com os estados do bloco.\n",
    "    \"\"\"\n",
    "    pass\n",
    "\n",
    "bloco_teste_2 = construir_bloco_or('c', 'd', 0)\n",
    "bloco_teste_2_df = pd.DataFrame(bloco_teste_2, index=bloco_teste_2._fields)\n",
    "bloco_teste_2_df"
   ]
  },
  {
   "attachments": {},
   "cell_type": "markdown",
   "metadata": {},
   "source": [
    "#### Implementação usando dicionário (mais cara)"
   ]
  },
  {
   "cell_type": "code",
   "execution_count": 68,
   "metadata": {},
   "outputs": [
    {
     "data": {
      "text/plain": [
       "('q01', 'q02')"
      ]
     },
     "execution_count": 68,
     "metadata": {},
     "output_type": "execute_result"
    }
   ],
   "source": [
    "bloco_or_dict = {\n",
    "    'q00': {\n",
    "        'c': '',\n",
    "        'd': '',\n",
    "        'epsilon': ('q01', 'q02')\n",
    "        },\n",
    "    'q01': {\n",
    "        'c': 'q02',\n",
    "        'd': '',\n",
    "        'epsilon': ''\n",
    "        },\n",
    "    'q02': {\n",
    "        'c': '',\n",
    "        'd': '',\n",
    "        'epsilon': 'q05'\n",
    "        },\n",
    "    'q03': {\n",
    "        'c': '',\n",
    "        'd': 'q04',\n",
    "        'epsilon': ''\n",
    "        },\n",
    "    'q04': {\n",
    "        'c': '',\n",
    "        'd': '',\n",
    "        'epsilon': 'q05'}\n",
    "    }\n",
    "bloco_teste_3_df = pd.DataFrame(bloco_or_dict).T\n",
    "bloco_teste_3_df.loc['q00'].epsilon"
   ]
  },
  {
   "cell_type": "code",
   "execution_count": 69,
   "metadata": {},
   "outputs": [
    {
     "name": "stdout",
     "output_type": "stream",
     "text": [
      "True\n"
     ]
    }
   ],
   "source": [
    "nao_determinismo = (isinstance(simbolo, tuple) for estado in bloco_teste_2\\\n",
    "                    for simbolo in estado)\n",
    "print(any(nao_determinismo))"
   ]
  },
  {
   "cell_type": "code",
   "execution_count": 26,
   "metadata": {},
   "outputs": [],
   "source": [
    "# Breadth First Search (BFS)\n",
    "\n",
    "def bfs(automato: dict, inicio: int, fim: int):\n",
    "    pass"
   ]
  },
  {
   "cell_type": "code",
   "execution_count": 27,
   "metadata": {},
   "outputs": [],
   "source": [
    "# dicionario de listas"
   ]
  }
 ],
 "metadata": {
  "kernelspec": {
   "display_name": "base",
   "language": "python",
   "name": "python3"
  },
  "language_info": {
   "codemirror_mode": {
    "name": "ipython",
    "version": 3
   },
   "file_extension": ".py",
   "mimetype": "text/x-python",
   "name": "python",
   "nbconvert_exporter": "python",
   "pygments_lexer": "ipython3",
   "version": "3.10.11"
  },
  "orig_nbformat": 4
 },
 "nbformat": 4,
 "nbformat_minor": 2
}
