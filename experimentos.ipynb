{
 "cells": [
  {
   "cell_type": "code",
   "execution_count": 1,
   "metadata": {},
   "outputs": [],
   "source": [
    "from collections import deque\n",
    "from itertools import accumulate\n",
    "\n",
    "\n",
    "class Automato:\n",
    "    \"\"\"Implementa um automato finito determinístico (AFD) que obedece a \n",
    "    seguinte definição:\n",
    "    M = (Q, Σ, δ, q0, F)\n",
    "    Q: Conjunto finito de estados\n",
    "    Σ: Alfabeto\n",
    "    δ: Função de transição\n",
    "    q0: Estado inicial\n",
    "    F: Conjunto de estados finai\n",
    "    \"\"\"\n",
    "    \n",
    "    estados_finitos: set[str]\n",
    "    alfabeto: set[str]\n",
    "    transicoes: dict[dict[str, str]]\n",
    "    estado_inicial: str\n",
    "    conj_estados_finais: set[str]\n",
    "    fita: deque[str]\n",
    "\n",
    "    def __init__(self, estados_finitos, alfabeto, transicoes,\n",
    "                estado_inicial, conj_estados_finais):\n",
    "        self.estados_finitos: set = estados_finitos\n",
    "        self.alfabeto: set = alfabeto\n",
    "        self.transicoes = transicoes\n",
    "        self.estado_inicial = estado_inicial\n",
    "        self.estados_finais = conj_estados_finais\n",
    "        self.fita = deque()\n",
    "        self.cursor = 0\n",
    "        self.maquina_estados: MaquinaEstados = MaquinaEstados(self)\n",
    "\n",
    "    def __repr__(self) -> str:\n",
    "        return f\"\"\"\\\n",
    "        M = (Q, Σ, δ, q0, F)\n",
    "        Q: {{{','.join(self.estados_finitos)}}}\n",
    "        Σ: {{{self.alfabeto}}}\n",
    "        δ: {self.maquina_estados.transicao}\n",
    "        q0: {self.estado_inicial}\n",
    "        F: {self.estados_finais}\\\n",
    "        \"\"\"\n",
    "    \n",
    "    def __eq__(self, o: \"Automato\") -> bool:\n",
    "        \"\"\"Retorna True se os dois automatos forem equivalentes.\"\"\"\n",
    "        # Aqui é preciso aplicar a técnica de minimização em ambos \n",
    "        # automatos, o que implica implementar 1. os algoritmos de remoção\n",
    "        # de transições em vazio; 2. de remoção de não-determinismos;\n",
    "        # 3. de remoção de estados inúteis ou inacessíveis, e o\n",
    "        # algoritmo de minimização, nesta ordem.\n",
    "        #\n",
    "        # minimo_self = self.rm_transicoes_vazio().rm_nao_determinismo().rm_estados_inuteis()\n",
    "        # minimo_o = o.rm_transicoes_vazio().rm_nao_determinismo().rm_estados_inuteis()\n",
    "        pass\n",
    "\n",
    "    def escrever_fita(self, cadeia: str) -> None:\n",
    "        \"\"\"Escreve uma cadeia de caracteres na fita.\"\"\"\n",
    "        self.fita.clear()\n",
    "        self.fita = deque(cadeia)\n",
    "        self.fita.append(\"\\0\")\n",
    "    \n",
    "    def ler_celula(self) -> str:\n",
    "        \"\"\"Retorna o conteudo da celula atual da fita.\"\"\"\n",
    "        self.cursor += 1\n",
    "        return self.fita.pop()\n",
    "\n",
    "    def reconhecer_cadeia(self, cadeia) -> bool:\n",
    "        \"\"\"Recebe uma cadeia de caracteres e retorna True se a cadeia \n",
    "        for aceita pelo automato.\n",
    "        \"\"\"\n",
    "        return self.maquina_estados.reconhecer_cadeia(cadeia)\n",
    "    \n",
    "    def rm_transicoes_vazio(self) -> \"Automato\":\n",
    "        \"\"\"Retorna um novo automato sem transições em vazio.\"\"\"\n",
    "        # TODO\n",
    "        pass\n",
    "\n",
    "    def rm_nao_determinismo(self) -> \"Automato\":\n",
    "        \"\"\"Retorna um novo automato sem não-determinismos.\"\"\"\n",
    "        # TODO\n",
    "        pass\n",
    "\n",
    "    def rm_estados_inuteis(self) -> \"Automato\":\n",
    "        \"\"\"Retorna um novo automato sem estados inuteis.\"\"\"\n",
    "        # TODO\n",
    "        pass\n",
    "\n",
    "\n",
    "#Maquina de estados\n",
    "class MaquinaEstados():\n",
    "    \"\"\"Classe que implementa uma máquina de estados finitos \n",
    "    determinística por composição da classe Automato.\n",
    "    \"\"\"\n",
    "    \n",
    "    funcao_transicao: dict[dict[str, str]]\n",
    "    estado_inicial: str\n",
    "    estados_finais: set[str]\n",
    "\n",
    "\n",
    "    def __init__(self, automato: Automato):\n",
    "        self.transicao = automato.transicoes\n",
    "        self.estados_finais = automato.estados_finais\n",
    "        self.estado_inical = automato.estado_inicial\n",
    "        self.__estado_atual = automato.estado_inicial\n",
    "        self.cadeia_restante = None\n",
    "        self.posicao_cursor = 0\n",
    "        self.movimentos = list()\n",
    "    \n",
    "    def config_seguinte(self, simbolo):\n",
    "        \"\"\"Aplica a função de transição δ(p, σ) -> q.\"\"\"\n",
    "        self.__estado_atual = self.transicao[self.__estado_atual][simbolo]\n",
    "\n",
    "    # Opcao com recurcao\n",
    "    def reconhecer_cadeia(self, cadeia):\n",
    "        \"\"\"Reconhece uma cadeia inteira na fita, de acordo com a \n",
    "        função de transição.\n",
    "        \"\"\"\n",
    "\n",
    "        if self.cadeia_restante == None:\n",
    "            self.movimentos = []\n",
    "            self.movimentos.append((self.__estado_atual, cadeia))\n",
    "        \n",
    "        resultado = False\n",
    "        if (self.__estado_atual, cadeia[0]) in self.transicao.keys():\n",
    "        \n",
    "            self.__estado_atual = self.transicao[(self.__estado_atual, cadeia[0])]\n",
    "            self.cadeia_restante = cadeia[1:]\n",
    "            self.movimentos.append((self.__estado_atual, self.cadeia_restante))\n",
    "            if self.cadeia_restante == \"\":\n",
    "                return True if self.__estado_atual in self.estados_finais else False\n",
    "            else:\n",
    "                resultado = self.reconhecer_cadeia(self.cadeia_restante)\n",
    "        else:            \n",
    "            return False\n",
    "        self.__estado_atual = self.estado_inical\n",
    "        self.cadeia_restante = None\n",
    "        return resultado\n"
   ]
  },
  {
   "cell_type": "code",
   "execution_count": 2,
   "metadata": {},
   "outputs": [],
   "source": [
    "estados = set([\"q0\", \"q1\", \"q2\", \"q3\"])\n",
    "alfabeto = set(['0', '1', '2'])\n",
    "funcao_de_transicao = {\n",
    "    ('q0', '0'): 'q0',\n",
    "    ('q0', '1'): 'q1',\n",
    "    ('q0', '2'): 'q3',\n",
    "    ('q1', '0'): 'q3',\n",
    "    ('q1', '1'): 'q1',\n",
    "    ('q1', '2'): 'q2',\n",
    "    ('q2', '0'): 'q3',\n",
    "    ('q2', '1'): 'q3',\n",
    "    ('q2', '2'): 'q2',\n",
    "    ('q3', '0'): 'q3',\n",
    "    ('q3', '1'): 'q3',\n",
    "    ('q3', '2'): 'q3',\n",
    "}\n",
    "estado_inicial = 'q0'\n",
    "estados_finais = set(['q1', 'q2'])"
   ]
  },
  {
   "cell_type": "code",
   "execution_count": 3,
   "metadata": {},
   "outputs": [],
   "source": [
    "automato_1 = Automato(estados, alfabeto, funcao_de_transicao, estado_inicial, estados_finais)"
   ]
  },
  {
   "cell_type": "code",
   "execution_count": 4,
   "metadata": {},
   "outputs": [
    {
     "name": "stdout",
     "output_type": "stream",
     "text": [
      "True\n"
     ]
    }
   ],
   "source": [
    "print(automato_1.reconhecer_cadeia('0001112'))"
   ]
  },
  {
   "cell_type": "code",
   "execution_count": 5,
   "metadata": {},
   "outputs": [
    {
     "name": "stdout",
     "output_type": "stream",
     "text": [
      "deque(['0', '0', '0', '1', '1', '1', '2', '\\x00'])\n"
     ]
    }
   ],
   "source": [
    "automato_1.escrever_fita('0001112')\n",
    "print(automato_1.fita)"
   ]
  },
  {
   "cell_type": "code",
   "execution_count": 6,
   "metadata": {},
   "outputs": [
    {
     "name": "stdout",
     "output_type": "stream",
     "text": [
      "deque(['0', '0', '0', '1', '1', '1', '2', '\\x00', '\\x00'])\n"
     ]
    }
   ],
   "source": [
    "from collections import deque\n",
    "\n",
    "def escrever_fita(fita: deque, cadeia: str) -> None:\n",
    "    \"\"\"Escreve uma cadeia de caracteres na fita.\"\"\"\n",
    "    fita.clear()\n",
    "    fita = deque(cadeia)\n",
    "    fita.append(\"\\0\")\n",
    "    return fita\n",
    "\n",
    "fita = deque()\n",
    "fita = escrever_fita(fita, \"0001112\")\n",
    "fita.append(\"\\0\")\n",
    "print(fita)\n"
   ]
  },
  {
   "cell_type": "code",
   "execution_count": 7,
   "metadata": {},
   "outputs": [],
   "source": [
    "funcao_de_transicao2 = {\n",
    "    'q0': {\n",
    "        '0': 'q0',\n",
    "        '1': 'q1',\n",
    "        '2': 'q3',\n",
    "    },\n",
    "    'q1': {\n",
    "        '0': 'q3',\n",
    "        '1': 'q1',\n",
    "        '2': 'q2',\n",
    "    },\n",
    "    'q2': {\n",
    "        '0': 'q3',\n",
    "        '1': 'q3',\n",
    "        '2': 'q2',\n",
    "    },\n",
    "    'q3': {\n",
    "        '0': 'q3',\n",
    "        '1': 'q3',\n",
    "        '2': 'q3',\n",
    "    },    \n",
    "}"
   ]
  },
  {
   "cell_type": "code",
   "execution_count": 8,
   "metadata": {},
   "outputs": [
    {
     "name": "stdout",
     "output_type": "stream",
     "text": [
      "q3\n"
     ]
    }
   ],
   "source": [
    "from itertools import accumulate\n",
    "from collections import deque\n",
    "from functools import reduce\n",
    "\n",
    "def muda_estado(estado_atual, simbolo) -> str:\n",
    "    estado_atual = funcao_de_transicao2[estado_atual][simbolo]\n",
    "    return estado_atual\n",
    "\n",
    "estado_atual = \"q0\"\n",
    "estado_atual = muda_estado(estado_atual, \"2\")\n",
    "print(estado_atual)\n"
   ]
  },
  {
   "cell_type": "code",
   "execution_count": 9,
   "metadata": {},
   "outputs": [],
   "source": [
    "cadeia = deque(\"0001112\")\n",
    "transicoes = accumulate(cadeia, muda_estado, initial='q0')\n",
    "transicoes2 = reduce(muda_estado, cadeia, 'q0')\n",
    "# print(list(transicoes))\n"
   ]
  },
  {
   "cell_type": "code",
   "execution_count": 10,
   "metadata": {},
   "outputs": [
    {
     "name": "stdout",
     "output_type": "stream",
     "text": [
      "True\n",
      "[('q0', '0011222'), ('q0', '011222'), ('q0', '11222'), ('q1', '1222'), ('q1', '222'), ('q2', '22'), ('q2', '2'), ('q2', '')]\n",
      "[('q0', '0011222') ⊢ ('q0', '011222') ⊢ ('q0', '11222') ⊢ ('q1', '1222') ⊢ ('q1', '222') ⊢ ('q2', '22') ⊢ ('q2', '2') ⊢ ('q2', '')]\n"
     ]
    }
   ],
   "source": [
    "print(automato_1.reconhecer_cadeia(\"0011222\"))\n",
    "print(automato_1.maquina_estados.movimentos)\n",
    "print(str(automato_1.maquina_estados.movimentos).replace(\"), \", \") ⊢ \"))\n",
    "\n"
   ]
  },
  {
   "cell_type": "code",
   "execution_count": 15,
   "metadata": {},
   "outputs": [
    {
     "data": {
      "text/plain": [
       "array({'q0': {'0': 'q0', '1': 'q1', '2': 'q3'}, 'q1': {'0': 'q3', '1': 'q1', '2': 'q2'}, 'q2': {'0': 'q3', '1': 'q3', '2': 'q2'}, 'q3': {'0': 'q3', '1': 'q3', '2': 'q3'}},\n",
       "      dtype=object)"
      ]
     },
     "execution_count": 15,
     "metadata": {},
     "output_type": "execute_result"
    }
   ],
   "source": [
    "import pandas as pd\n",
    "import numpy as np\n",
    "\n",
    "df = np.array(funcao_de_transicao2)\n",
    "df.T\n",
    "# testess"
   ]
  }
 ],
 "metadata": {
  "kernelspec": {
   "display_name": "base",
   "language": "python",
   "name": "python3"
  },
  "language_info": {
   "codemirror_mode": {
    "name": "ipython",
    "version": 3
   },
   "file_extension": ".py",
   "mimetype": "text/x-python",
   "name": "python",
   "nbconvert_exporter": "python",
   "pygments_lexer": "ipython3",
   "version": "3.9.16"
  },
  "orig_nbformat": 4
 },
 "nbformat": 4,
 "nbformat_minor": 2
}
