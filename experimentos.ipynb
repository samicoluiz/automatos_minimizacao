{
 "cells": [
  {
   "cell_type": "code",
   "execution_count": 22,
   "metadata": {},
   "outputs": [],
   "source": [
    "from collections import deque\n",
    "\n",
    "\n",
    "class Automato:\n",
    "    \"\"\"Implementa um automato finito determinístico (AFD) que obedece a \n",
    "    seguinte definição:\n",
    "    M = (Q, Σ, δ, q0, F)\n",
    "    Q: Conjunto finito de estados\n",
    "    Σ: Alfabeto\n",
    "    δ: Função de transição\n",
    "    q0: Estado inicial\n",
    "    F: Conjunto de estados finai\n",
    "    \"\"\"\n",
    "    \n",
    "    estados_finitos: set[str]\n",
    "    alfabeto: set[str]\n",
    "    transicoes: dict[dict[str, str]]\n",
    "    estado_inicial: str\n",
    "    conj_estados_finais: set[str]\n",
    "    fita: deque[str]\n",
    "\n",
    "    def __init__(self, estados_finitos, alfabeto, transicoes,\n",
    "                estado_inicial, conj_estados_finais):\n",
    "        self.estados_finitos: set = estados_finitos\n",
    "        self.alfabeto: set = alfabeto\n",
    "        self.transicoes = transicoes\n",
    "        self.estado_inicial = estado_inicial\n",
    "        self.estados_finais = conj_estados_finais\n",
    "        self.fita = deque()\n",
    "        self.cursor = 0\n",
    "        self.maquina_estados: MaquinaEstados = MaquinaEstados(self)\n",
    "\n",
    "    def __repr__(self) -> str:\n",
    "        return f\"\"\"\\\n",
    "        M = (Q, Σ, δ, q0, F)\n",
    "        Q: {{{','.join(self.estados_finitos)}}}\n",
    "        Σ: {{{self.alfabeto}}}\n",
    "        δ: {self.maquina_estados.transicao}\n",
    "        q0: {self.estado_inicial}\n",
    "        F: {self.estados_finais}\\\n",
    "        \"\"\"\n",
    "    \n",
    "    def __eq__(self, o: \"Automato\") -> bool:\n",
    "        \"\"\"Retorna True se os dois automatos forem equivalentes.\"\"\"\n",
    "        # Aqui é preciso aplicar a técnica de minimização em ambos \n",
    "        # automatos, o que implica implementar 1. os algoritmos de remoção\n",
    "        # de transições em vazio; 2. de remoção de não-determinismos;\n",
    "        # 3. de remoção de estados inúteis ou inacessíveis, e o\n",
    "        # algoritmo de minimização, nesta ordem.\n",
    "        #\n",
    "        # minimo_self = self.rm_transicoes_vazio().rm_nao_determinismo().rm_estados_inuteis()\n",
    "        # minimo_o = o.rm_transicoes_vazio().rm_nao_determinismo().rm_estados_inuteis()\n",
    "        pass\n",
    "\n",
    "    def escrever_fita(self, cadeia: str) -> None:\n",
    "        \"\"\"Escreve uma cadeia de caracteres na fita.\"\"\"\n",
    "        self.fita.clear()\n",
    "        self.fita = deque(cadeia)\n",
    "    \n",
    "    def ler_celula(self) -> str:\n",
    "        \"\"\"Retorna o conteudo da celula atual da fita.\"\"\"\n",
    "        self.cursor += 1\n",
    "        return self.fita.pop()\n",
    "\n",
    "    def reconhecer_cadeia_alt(self, cadeia: str):\n",
    "        self.maquina_estados.resetar()    \n",
    "        self.escrever_fita(cadeia)\n",
    "        self.maquina_estados.gravar_movimento(self.fita)\n",
    "        while self.fita:\n",
    "            simbolo = self.fita.popleft()\n",
    "            try:\n",
    "                self.maquina_estados.config_seguinte(simbolo)\n",
    "                self.maquina_estados.gravar_movimento(self.fita)\n",
    "            except KeyError:\n",
    "                return False\n",
    "        estado_parada = self.maquina_estados.estado_atual\n",
    "        return bool(estado_parada in self.estados_finais)\n",
    "    \n",
    "    def rm_transicoes_vazio(self) -> \"Automato\":\n",
    "        \"\"\"Retorna um novo automato sem transições em vazio.\"\"\"\n",
    "        # TODO\n",
    "        pass\n",
    "\n",
    "    def rm_nao_determinismo(self) -> \"Automato\":\n",
    "        \"\"\"Retorna um novo automato sem não-determinismos.\"\"\"\n",
    "        # TODO\n",
    "        pass\n",
    "\n",
    "    def rm_estados_inuteis(self) -> \"Automato\":\n",
    "        \"\"\"Retorna um novo automato sem estados inuteis.\"\"\"\n",
    "        # TODO\n",
    "        pass\n",
    "\n",
    "\n",
    "# Maquina de estados\n",
    "class MaquinaEstados:\n",
    "    \"\"\"Classe que implementa uma máquina de estados finitos \n",
    "    determinística por composição da classe Automato.\n",
    "    \"\"\"\n",
    "    \n",
    "    funcao_transicao: dict[dict[str, str]]\n",
    "    estado_inicial: str\n",
    "    estados_finais: set[str]\n",
    "\n",
    "\n",
    "    def __init__(self, automato: Automato):\n",
    "        self.transicao = automato.transicoes\n",
    "        self.estados_finais = automato.estados_finais\n",
    "        self.estado_inical = automato.estado_inicial\n",
    "        self.estado_atual = automato.estado_inicial\n",
    "        self.cadeia_restante = None\n",
    "        self.posicao_cursor = 0\n",
    "        self.movimentos = list()\n",
    "    \n",
    "    def config_seguinte(self, simbolo):\n",
    "        \"\"\"Aplica a função de transição δ(p, σ) -> q.\"\"\"\n",
    "        if simbolo != \"\\0\":\n",
    "            self.estado_atual = self.transicao[self.estado_atual][simbolo]\n",
    "            self.posicao_cursor += 1\n",
    "\n",
    "    def gravar_movimento(self, cadeia: deque[str]):\n",
    "        \"\"\"Retorna o histórico de movimentos da máquina de estados.\"\"\"\n",
    "        self.movimentos.append((self.estado_atual, \"\".join(cadeia)))\n",
    "\n",
    "    def apresentar_movimentos(self):\n",
    "        mov_formatados = str(self.movimentos).replace(\"), \", \") ⊢ \")\n",
    "        return mov_formatados\n",
    "\n",
    "    def resetar(self):\n",
    "        \"\"\"Reseta a máquina de estados.\"\"\"\n",
    "        self.estado_atual = self.estado_inical\n",
    "        self.cadeia_restante = None\n",
    "        self.posicao_cursor = 0\n",
    "        self.movimentos = list()\n",
    "\n",
    "    # Opcao com recursao\n",
    "    def reconhecer_cadeia(self, cadeia):\n",
    "        \"\"\"Reconhece uma cadeia inteira na fita, de acordo com a \n",
    "        função de transição.\n",
    "        \"\"\"\n",
    "\n",
    "        if self.cadeia_restante == None:\n",
    "            self.movimentos = []\n",
    "            self.movimentos.append((self.estado_atual, cadeia))\n",
    "        \n",
    "        resultado = False\n",
    "        if (self.estado_atual, cadeia[0]) in self.transicao.keys():\n",
    "        \n",
    "            self.estado_atual = self.transicao[(self.estado_atual, cadeia[0])]\n",
    "            self.cadeia_restante = cadeia[1:]\n",
    "            self.movimentos.append((self.estado_atual, self.cadeia_restante))\n",
    "            if self.cadeia_restante == \"\":\n",
    "                return True if self.estado_atual in self.estados_finais else False\n",
    "            else:\n",
    "                resultado = self.reconhecer_cadeia(self.cadeia_restante)\n",
    "        else:            \n",
    "            return False\n",
    "        self.estado_atual = self.estado_inical\n",
    "        self.cadeia_restante = None\n",
    "        return resultado\n"
   ]
  },
  {
   "cell_type": "code",
   "execution_count": 23,
   "metadata": {},
   "outputs": [],
   "source": [
    "estados = set([\"q0\", \"q1\", \"q2\", \"q3\"])\n",
    "alfabeto = set(['0', '1', '2'])\n",
    "funcao_de_transicao = {\n",
    "    ('q0', '0'): 'q0',\n",
    "    ('q0', '1'): 'q1',\n",
    "    ('q0', '2'): 'q3',\n",
    "    ('q1', '0'): 'q3',\n",
    "    ('q1', '1'): 'q1',\n",
    "    ('q1', '2'): 'q2',\n",
    "    ('q2', '0'): 'q3',\n",
    "    ('q2', '1'): 'q3',\n",
    "    ('q2', '2'): 'q2',\n",
    "    ('q3', '0'): 'q3',\n",
    "    ('q3', '1'): 'q3',\n",
    "    ('q3', '2'): 'q3',\n",
    "}\n",
    "estado_inicial = 'q0'\n",
    "estados_finais = set(['q1', 'q2'])"
   ]
  },
  {
   "cell_type": "code",
   "execution_count": 24,
   "metadata": {},
   "outputs": [],
   "source": [
    "automato_1 = Automato(estados, alfabeto, funcao_de_transicao, estado_inicial, estados_finais)"
   ]
  },
  {
   "cell_type": "code",
   "execution_count": 28,
   "metadata": {},
   "outputs": [
    {
     "name": "stdout",
     "output_type": "stream",
     "text": [
      "True\n"
     ]
    }
   ],
   "source": [
    "print(automato_1.maquina_estados.reconhecer_cadeia('0001112'))"
   ]
  },
  {
   "cell_type": "code",
   "execution_count": 29,
   "metadata": {},
   "outputs": [
    {
     "name": "stdout",
     "output_type": "stream",
     "text": [
      "deque(['0', '0', '0', '1', '1', '1', '2'])\n"
     ]
    }
   ],
   "source": [
    "automato_1.escrever_fita('0001112')\n",
    "print(automato_1.fita)"
   ]
  },
  {
   "cell_type": "code",
   "execution_count": 30,
   "metadata": {},
   "outputs": [
    {
     "name": "stdout",
     "output_type": "stream",
     "text": [
      "deque(['0', '0', '0', '1', '1', '1', '2', '\\x00', '\\x00'])\n"
     ]
    }
   ],
   "source": [
    "from collections import deque\n",
    "\n",
    "def escrever_fita(fita: deque, cadeia: str) -> None:\n",
    "    \"\"\"Escreve uma cadeia de caracteres na fita.\"\"\"\n",
    "    fita.clear()\n",
    "    fita = deque(cadeia)\n",
    "    fita.append(\"\\0\")\n",
    "    return fita\n",
    "\n",
    "fita = deque()\n",
    "fita = escrever_fita(fita, \"0001112\")\n",
    "fita.append(\"\\0\")\n",
    "print(fita)"
   ]
  },
  {
   "cell_type": "code",
   "execution_count": 31,
   "metadata": {},
   "outputs": [],
   "source": [
    "funcao_de_transicao2 = {\n",
    "    'q0': {\n",
    "        '0': 'q0',\n",
    "        '1': 'q1',\n",
    "        '2': 'q3',\n",
    "    },\n",
    "    'q1': {\n",
    "        '0': 'q3',\n",
    "        '1': 'q1',\n",
    "        '2': 'q2',\n",
    "    },\n",
    "    'q2': {\n",
    "        '0': 'q3',\n",
    "        '1': 'q3',\n",
    "        '2': 'q2',\n",
    "    },\n",
    "    'q3': {\n",
    "        '0': 'q3',\n",
    "        '1': 'q3',\n",
    "        '2': 'q3',\n",
    "    },    \n",
    "}"
   ]
  },
  {
   "cell_type": "code",
   "execution_count": 32,
   "metadata": {},
   "outputs": [
    {
     "name": "stdout",
     "output_type": "stream",
     "text": [
      "q3\n"
     ]
    }
   ],
   "source": [
    "from itertools import accumulate\n",
    "from collections import deque\n",
    "from functools import reduce\n",
    "\n",
    "def muda_estado(estado_atual, simbolo) -> str:\n",
    "    estado_atual = funcao_de_transicao2[estado_atual][simbolo]\n",
    "    return estado_atual\n",
    "\n",
    "estado_atual = \"q0\"\n",
    "estado_atual = muda_estado(estado_atual, \"2\")\n",
    "print(estado_atual)"
   ]
  },
  {
   "cell_type": "code",
   "execution_count": 33,
   "metadata": {},
   "outputs": [],
   "source": [
    "cadeia = deque(\"0001112\")\n",
    "transicoes = accumulate(cadeia, muda_estado, initial='q0')\n",
    "transicoes2 = reduce(muda_estado, cadeia, 'q0')"
   ]
  },
  {
   "cell_type": "code",
   "execution_count": 36,
   "metadata": {},
   "outputs": [
    {
     "name": "stdout",
     "output_type": "stream",
     "text": [
      "True\n",
      "[('q0', '0011222'), ('q0', '011222'), ('q0', '11222'), ('q1', '1222'), ('q1', '222'), ('q2', '22'), ('q2', '2'), ('q2', '')]\n",
      "[('q0', '0011222') ⊢ ('q0', '011222') ⊢ ('q0', '11222') ⊢ ('q1', '1222') ⊢ ('q1', '222') ⊢ ('q2', '22') ⊢ ('q2', '2') ⊢ ('q2', '')]\n"
     ]
    }
   ],
   "source": [
    "print(automato_1.maquina_estados.reconhecer_cadeia(\"0011222\"))\n",
    "print(automato_1.maquina_estados.movimentos)\n",
    "print(str(automato_1.maquina_estados.movimentos).replace(\"), \", \") ⊢ \"))"
   ]
  },
  {
   "attachments": {},
   "cell_type": "markdown",
   "metadata": {},
   "source": [
    "#### Conversão de RegEx em AFND\n",
    "O autômato finito não-determinístico que aceita a linguagem definida por r pode ser obtido através da aplicação do algoritmo a seguir que especifica as regras de mapeamento parciais que abrangem casos triviais de sentenças (itens 1, 2 e 3) e cada um dos operadores de união (4), concatenação (5) e fechamento (6)\n",
    "\n",
    "Obs:. F são finais de segmento\n",
    "```\n",
    "Casos triviais:\n",
    "1. ->   q0: {\n",
    "        ε: q1\n",
    "        }\n",
    "        Q = {q0, q1}\n",
    "        F = {q1}\n",
    "\n",
    "2. ->   q0: {\n",
    "        NULL:q0\n",
    "        }\n",
    "        Q = {q0, q1}\n",
    "        F = {q1}\n",
    "\n",
    "3. ->   q0: {\n",
    "        σ: q1\n",
    "        }\n",
    "        Q = {q0, q1}\n",
    "        F = {q1}\n",
    "\n",
    "Operadores:\n",
    "4. a|b = {\n",
    "    q0: {\n",
    "        ε: q1,\n",
    "        ε: q2,\n",
    "    },\n",
    "    q1: {\n",
    "        a: q2\n",
    "    },\n",
    "    q3: {\n",
    "        b: q4\n",
    "    },\n",
    "    q4: {\n",
    "        ε: q5\n",
    "    },\n",
    "    q2: {\n",
    "        ε: q5\n",
    "    }\n",
    "}\n",
    "    Q = {q0, q1, q2, q3, q4, q5}\n",
    "    F = {q5}\n",
    "\n",
    "5. ab = {\n",
    "    q0: {\n",
    "        a: q1\n",
    "    },\n",
    "    q1: {\n",
    "        ε: q2\n",
    "    },\n",
    "    q2: {\n",
    "        b: q3\n",
    "    },\n",
    "    q3: {\n",
    "        ε: q4\n",
    "    }\n",
    "}\n",
    "    Q = {q0, q1, q2, q3, q4}\n",
    "    F = {q4}\n",
    "\n",
    "6. a* = {\n",
    "    q0: {\n",
    "       ε: q1,\n",
    "       ε: q5, \n",
    "    }\n",
    "    q1: {\n",
    "        ε: q2\n",
    "    },\n",
    "    q2: {\n",
    "        ε: q3\n",
    "    },\n",
    "    q3: {\n",
    "        ε: q4\n",
    "    },\n",
    "    q4: {\n",
    "        ε: q5,\n",
    "        ε: q1\n",
    "    }\n",
    "}\n",
    "    Q = {q0, q1, q2, q3, q4, q5}\n",
    "    F = {q5}\n",
    "```"
   ]
  },
  {
   "attachments": {},
   "cell_type": "markdown",
   "metadata": {},
   "source": [
    "passo-a-passo: \n",
    "1. encontrar os parenteses e resolver as expressões.\n",
    "2. aplicar a funcao a cada membro da expressão regular.\n"
   ]
  },
  {
   "cell_type": "code",
   "execution_count": 37,
   "metadata": {},
   "outputs": [],
   "source": [
    "# expressao = \"ab*\"\n",
    "\n",
    "# for simbolo in regex:\n",
    "#     if simbolo == \"(\":\n",
    "#         regex.index(simbolo)\n",
    "#         regex.index(\")\")\n",
    "#         pass\n",
    "\n"
   ]
  },
  {
   "attachments": {},
   "cell_type": "markdown",
   "metadata": {},
   "source": [
    "#### Implementação usando namedtuples (mais barata)"
   ]
  },
  {
   "cell_type": "code",
   "execution_count": 38,
   "metadata": {},
   "outputs": [
    {
     "data": {
      "text/html": [
       "<div>\n",
       "<style scoped>\n",
       "    .dataframe tbody tr th:only-of-type {\n",
       "        vertical-align: middle;\n",
       "    }\n",
       "\n",
       "    .dataframe tbody tr th {\n",
       "        vertical-align: top;\n",
       "    }\n",
       "\n",
       "    .dataframe thead th {\n",
       "        text-align: right;\n",
       "    }\n",
       "</style>\n",
       "<table border=\"1\" class=\"dataframe\">\n",
       "  <thead>\n",
       "    <tr style=\"text-align: right;\">\n",
       "      <th></th>\n",
       "      <th>c</th>\n",
       "      <th>d</th>\n",
       "      <th>epsilon</th>\n",
       "    </tr>\n",
       "  </thead>\n",
       "  <tbody>\n",
       "    <tr>\n",
       "      <th>q00</th>\n",
       "      <td></td>\n",
       "      <td></td>\n",
       "      <td>(q01, q02)</td>\n",
       "    </tr>\n",
       "    <tr>\n",
       "      <th>q01</th>\n",
       "      <td>q02</td>\n",
       "      <td></td>\n",
       "      <td></td>\n",
       "    </tr>\n",
       "    <tr>\n",
       "      <th>q02</th>\n",
       "      <td></td>\n",
       "      <td></td>\n",
       "      <td>q05</td>\n",
       "    </tr>\n",
       "    <tr>\n",
       "      <th>q03</th>\n",
       "      <td></td>\n",
       "      <td>q04</td>\n",
       "      <td></td>\n",
       "    </tr>\n",
       "    <tr>\n",
       "      <th>q04</th>\n",
       "      <td></td>\n",
       "      <td></td>\n",
       "      <td>q05</td>\n",
       "    </tr>\n",
       "  </tbody>\n",
       "</table>\n",
       "</div>"
      ],
      "text/plain": [
       "       c    d     epsilon\n",
       "q00            (q01, q02)\n",
       "q01  q02                 \n",
       "q02                   q05\n",
       "q03       q04            \n",
       "q04                   q05"
      ]
     },
     "execution_count": 38,
     "metadata": {},
     "output_type": "execute_result"
    }
   ],
   "source": [
    "from collections import namedtuple\n",
    "import pandas as pd\n",
    "\n",
    "\n",
    "def construir_transicoes(alfabeto: str, epsilon=False) -> namedtuple:\n",
    "    \"\"\"Constrói uma namedtuple com o alfabeto da linguagem e se o\n",
    "    automato aceita transições vazias.\n",
    "        Args:\n",
    "            alfabeto (str) -- Alfabeto da linguagem.\n",
    "            epsilon (bool, optional) -- Se o automato aceita transições \n",
    "                                        vazias. Defaults to False.\n",
    "        Returns:\n",
    "            namedtuple: Tupla com o alfabeto e se aceita transições vazias.\n",
    "    \"\"\"\n",
    "    fields = f'{\" \".join(alfabeto) + (\" epsilon\" if epsilon else \"\")}'\n",
    "    alfabeto_tuple = namedtuple('transita', fields)\n",
    "    return alfabeto_tuple\n",
    "\n",
    "def construir_bloco_or(a: str, b: str, n: int) -> namedtuple:\n",
    "    \"\"\"Constrói um bloco de transições para o operador OR de acordo com\n",
    "    o algoritmo de Thompson.\n",
    "        Args:\n",
    "            a (str) -- Primeiro operando.\n",
    "            b (str) -- Segundo operando.\n",
    "            n (int) -- Número do bloco.\n",
    "        Returns:\n",
    "            namedtuple: Tupla com os estados do bloco.\n",
    "    \"\"\"\n",
    "    transicoes = construir_transicoes(f\"{a}{b}\", epsilon=True)\n",
    "    bloco_or = namedtuple('estado', f'q{n}0 q{n}1 q{n}2 q{n}3 q{n}4')\n",
    "\n",
    "    q0 = transicoes('','',(f'q{n}1', f'q{n}2'))\n",
    "    q1 = transicoes(f'q{n}2','','')\n",
    "    q2 = transicoes('','',f'q{n}5')\n",
    "    q3 = transicoes('',f'q{n}4','')\n",
    "    q4 = transicoes('','',f'q{n}5')\n",
    "\n",
    "    return bloco_or(q0, q1, q2, q3, q4)\n",
    "\n",
    "def construir_fecho(simbolo: str) -> namedtuple:\n",
    "    \"\"\"Constrói um bloco de transições para o operador de fecho de Kleene\n",
    "    de acordo com o algoritmo de Thompson.\n",
    "        Args:\n",
    "            simbolo (str) -- operando do operador de fecho de Kleene.\n",
    "        Returns:\n",
    "            namedtuple: Tupla com os estados do bloco.\n",
    "    \"\"\"\n",
    "    pass\n",
    "\n",
    "bloco_teste_2 = construir_bloco_or('c', 'd', 0)\n",
    "bloco_teste_2_df = pd.DataFrame(bloco_teste_2, index=bloco_teste_2._fields)\n",
    "bloco_teste_2_df"
   ]
  },
  {
   "attachments": {},
   "cell_type": "markdown",
   "metadata": {},
   "source": [
    "#### Implementação usando dicionário (mais cara)"
   ]
  },
  {
   "cell_type": "code",
   "execution_count": 39,
   "metadata": {},
   "outputs": [
    {
     "data": {
      "text/plain": [
       "('q01', 'q02')"
      ]
     },
     "execution_count": 39,
     "metadata": {},
     "output_type": "execute_result"
    }
   ],
   "source": [
    "bloco_or_dict = {\n",
    "    'q00': {\n",
    "        'c': '',\n",
    "        'd': '',\n",
    "        'epsilon': ('q01', 'q02')\n",
    "        },\n",
    "    'q01': {\n",
    "        'c': 'q02',\n",
    "        'd': '',\n",
    "        'epsilon': ''\n",
    "        },\n",
    "    'q02': {\n",
    "        'c': '',\n",
    "        'd': '',\n",
    "        'epsilon': 'q05'\n",
    "        },\n",
    "    'q03': {\n",
    "        'c': '',\n",
    "        'd': 'q04',\n",
    "        'epsilon': ''\n",
    "        },\n",
    "    'q04': {\n",
    "        'c': '',\n",
    "        'd': '',\n",
    "        'epsilon': 'q05'}\n",
    "    }\n",
    "bloco_teste_3_df = pd.DataFrame(bloco_or_dict).T\n",
    "bloco_teste_3_df.loc['q00'].epsilon"
   ]
  },
  {
   "cell_type": "code",
   "execution_count": 40,
   "metadata": {},
   "outputs": [
    {
     "name": "stdout",
     "output_type": "stream",
     "text": [
      "True\n"
     ]
    }
   ],
   "source": [
    "nao_determinismo = any(isinstance(simbolo, tuple) for estado in bloco_teste_2\\\n",
    "                    for simbolo in estado)\n",
    "print(nao_determinismo)"
   ]
  },
  {
   "cell_type": "code",
   "execution_count": 41,
   "metadata": {},
   "outputs": [
    {
     "name": "stdout",
     "output_type": "stream",
     "text": [
      "q1:                    \n",
      "Trancicoes: {'0': q1, '1': q1}                    \n",
      "Cadeia de saida: 1\n",
      " q2:                    \n",
      "Trancicoes: {'0': q2, '1': q2}                    \n",
      "Cadeia de saida: \n",
      " q0:                    \n",
      "Trancicoes: {'0': q0, '1': q0}                    \n",
      "Cadeia de saida: 0\n",
      "\n"
     ]
    }
   ],
   "source": [
    "class Estado:\n",
    "    \"\"\"Classe que representa um estado de um autômato finito.\"\"\"\n",
    "    \n",
    "    func_transicao: dict[str, dict[str, 'Estado']]\n",
    "    func_transdutora: str\n",
    "    nome: str\n",
    "\n",
    "    def __init__(self, nome, func_transicao={}, func_transdutora=\"\"):\n",
    "        self.nome = nome\n",
    "        self.func_transicao = func_transicao\n",
    "        self.func_transdutora = func_transdutora\n",
    "\n",
    "    def __str__(self):\n",
    "        descricao = f\"{self.nome}:\\\n",
    "                    \\nTrancicoes: {self.func_transicao}\\\n",
    "                    \\nCadeia de saida: {self.func_transdutora}\\n\"\n",
    "        return descricao\n",
    "\n",
    "    def __repr__(self):\n",
    "        return self.nome\n",
    "\n",
    "    def set_func_transicao(self, func_transicao) -> None:\n",
    "        self.func_transicao = func_transicao\n",
    "\n",
    "    def set_func_transdutora(self, func_transdutora) -> None:\n",
    "        self.func_transdutora = func_transdutora\n",
    "\n",
    "q0 = Estado(\"q0\",func_transdutora='0')\n",
    "q0.set_func_transicao({'0': q0, '1': q0})\n",
    "\n",
    "q1 = Estado(\"q1\",func_transdutora='1')\n",
    "q1.set_func_transicao({'0': q1, '1': q1})\n",
    "\n",
    "q2 = Estado(\"q2\",func_transdutora='')\n",
    "q2.set_func_transicao({'0': q2, '1': q2})\n",
    "\n",
    "print(q1, q2, q0)"
   ]
  },
  {
   "cell_type": "code",
   "execution_count": 42,
   "metadata": {},
   "outputs": [],
   "source": [
    "class Transdutor(Automato):\n",
    "    pass\n",
    "        \n",
    "automato_2 = Transdutor(estados, alfabeto, funcao_de_transicao2, estado_inicial, estados_finais)"
   ]
  },
  {
   "cell_type": "code",
   "execution_count": 43,
   "metadata": {},
   "outputs": [
    {
     "name": "stdout",
     "output_type": "stream",
     "text": [
      "False\n",
      "True\n"
     ]
    }
   ],
   "source": [
    "automato_2.estados_finitos\n",
    "print(automato_2.maquina_estados.reconhecer_cadeia('00000'))\n",
    "print(isinstance(automato_2, Automato))"
   ]
  },
  {
   "cell_type": "code",
   "execution_count": 44,
   "metadata": {},
   "outputs": [
    {
     "name": "stdout",
     "output_type": "stream",
     "text": [
      "{'q0': {'0': 'q0', '1': 'q1', '2': 'q3'}, 'q1': {'0': 'q3', '1': 'q1', '2': 'q2'}, 'q2': {'0': 'q3', '1': 'q3', '2': 'q2'}, 'q3': {'0': 'q3', '1': 'q3', '2': 'q3'}}\n",
      "[]\n",
      "q0 False\n",
      "q1 True\n",
      "deque(['q1'])\n",
      "q3 True\n",
      "deque(['q1', 'q3'])\n",
      "q3 True\n",
      "deque(['q3', 'q3'])\n",
      "q1 False\n",
      "q2 True\n",
      "deque(['q3', 'q3', 'q2'])\n",
      "q3 False\n",
      "q3 False\n",
      "q3 False\n"
     ]
    },
    {
     "data": {
      "text/plain": [
       "['q0', 'q1', 'q3']"
      ]
     },
     "execution_count": 44,
     "metadata": {},
     "output_type": "execute_result"
    }
   ],
   "source": [
    "# Breadth First Search (BFS)\n",
    "# DEVE SER UTIL PARA OS AFN-E\n",
    "\n",
    "grafo = automato_2.transicoes\n",
    "print(grafo)\n",
    "visitados = []\n",
    "print(visitados)\n",
    "def bfs(automato: Automato, inicio: str, fim: str = None):\n",
    "    fila = deque([inicio])\n",
    "    while fila and fim not in visitados:\n",
    "        vertice = fila.popleft()\n",
    "        if vertice not in visitados:\n",
    "            visitados.append(vertice)\n",
    "            automato.maquina_estados.estado_atual = vertice\n",
    "            for vizinho in grafo[vertice].values():\n",
    "                print(vizinho, vizinho not in visitados)\n",
    "                if vizinho not in visitados:\n",
    "                    fila.append(vizinho)\n",
    "                    print(fila)\n",
    "    return visitados\n",
    "\n",
    "bfs(automato_2, 'q0', 'q3')"
   ]
  },
  {
   "cell_type": "code",
   "execution_count": 46,
   "metadata": {},
   "outputs": [],
   "source": [
    "# # Breadth First Search (BFS)\n",
    "\n",
    "# automato_2.maquina_estados.estado_atual = automato_2.estado_inicial\n",
    "# # print(consumidos)\n",
    "# def bfs(automato: Automato, cadeia: str):\n",
    "#     grafo = automato.transicoes\n",
    "#     print(grafo)\n",
    "#     consumidos = deque([])\n",
    "#     transitados = deque([])\n",
    "#     automato.escrever_fita(cadeia)\n",
    "#     while automato.fita and cadeia not in consumidos:\n",
    "#         alvo = automato.fita.popleft()\n",
    "#         vertice = automato.maquina_estados.estado_atual\n",
    "#         if cadeia != \"\".join(consumidos) and alvo in grafo[vertice].keys():\n",
    "#             consumidos.append(alvo)\n",
    "#             print(consumidos)\n",
    "#             transitados.append(vertice)\n",
    "#             print(transitados)\n",
    "#             automato.maquina_estados.estado_atual = grafo[vertice][alvo]\n",
    "#     else:\n",
    "#             consumidos.append(alvo)\n",
    "#             print(consumidos)\n",
    "#             transitados.append(vertice)\n",
    "#             print(transitados)\n",
    "#     print(transitados)\n",
    "#     return consumidos\n",
    "\n",
    "# print(bfs(automato_2, ''))"
   ]
  },
  {
   "cell_type": "code",
   "execution_count": 48,
   "metadata": {},
   "outputs": [],
   "source": [
    "# def reconhecer_cadeia(self, cadeia: str):\n",
    "#     self.maquina_estados.resetar()    \n",
    "#     self.escrever_fita(cadeia)\n",
    "#     self.maquina_estados.gravar_movimento(self.fita)\n",
    "#     while self.fita:\n",
    "#         simbolo = self.fita.popleft()\n",
    "#         try:\n",
    "#             self.maquina_estados.config_seguinte(simbolo)\n",
    "#             self.maquina_estados.gravar_movimento(self.fita)\n",
    "#         except KeyError:\n",
    "#             return False\n",
    "#     estado_parada = self.maquina_estados.estado_atual\n",
    "#     return bool(estado_parada in self.estados_finais)\n",
    "\n",
    "# reconhecer_cadeia(self_2, '011')\n",
    "# print(self_2.maquina_estados.movimentos)\n",
    "# print(self_2.maquina_estados.apresentar_movimentos())"
   ]
  },
  {
   "cell_type": "code",
   "execution_count": 54,
   "metadata": {},
   "outputs": [
    {
     "data": {
      "text/plain": [
       "False"
      ]
     },
     "execution_count": 54,
     "metadata": {},
     "output_type": "execute_result"
    }
   ],
   "source": [
    "automato_2.reconhecer_cadeia_alt('013')"
   ]
  },
  {
   "cell_type": "code",
   "execution_count": 50,
   "metadata": {},
   "outputs": [
    {
     "ename": "AttributeError",
     "evalue": "'MaquinaEstados' object has no attribute 'hist_movimentos'",
     "output_type": "error",
     "traceback": [
      "\u001b[1;31m---------------------------------------------------------------------------\u001b[0m",
      "\u001b[1;31mAttributeError\u001b[0m                            Traceback (most recent call last)",
      "Cell \u001b[1;32mIn[50], line 11\u001b[0m\n\u001b[0;32m      8\u001b[0m     \u001b[39mreturn\u001b[39;00m \u001b[39mbool\u001b[39m(estado_parada \u001b[39min\u001b[39;00m automato\u001b[39m.\u001b[39mestados_finais)\n\u001b[0;32m     10\u001b[0m reconhecer_cadeia(automato_2, \u001b[39m'\u001b[39m\u001b[39m011\u001b[39m\u001b[39m'\u001b[39m)\n\u001b[1;32m---> 11\u001b[0m \u001b[39mprint\u001b[39m(\u001b[39mlist\u001b[39m(automato_2\u001b[39m.\u001b[39;49mmaquina_estados\u001b[39m.\u001b[39;49mhist_movimentos()))\n",
      "\u001b[1;31mAttributeError\u001b[0m: 'MaquinaEstados' object has no attribute 'hist_movimentos'"
     ]
    }
   ],
   "source": [
    "def reconhecer_cadeia(automato: Automato, cadeia: str):\n",
    "    automato.maquina_estados.resetar()\n",
    "    automato.escrever_fita(cadeia)    \n",
    "    ler, fita = automato.maquina_estados.config_seguinte, automato.fita\n",
    "    for _ in (ler(celula) for celula in fita):        \n",
    "        automato.maquina_estados.movimentos.append(automato.maquina_estados.estado_atual)\n",
    "    estado_parada = automato.maquina_estados.estado_atual\n",
    "    return bool(estado_parada in automato.estados_finais)\n",
    "\n",
    "reconhecer_cadeia(automato_2, '011')\n",
    "print(list(automato_2.maquina_estados.hist_movimentos()))"
   ]
  },
  {
   "cell_type": "code",
   "execution_count": null,
   "metadata": {},
   "outputs": [
    {
     "data": {
      "text/plain": [
       "dict_keys(['0', '1', '2'])"
      ]
     },
     "execution_count": 439,
     "metadata": {},
     "output_type": "execute_result"
    }
   ],
   "source": [
    "grafo['q0'].keys()"
   ]
  }
 ],
 "metadata": {
  "kernelspec": {
   "display_name": "base",
   "language": "python",
   "name": "python3"
  },
  "language_info": {
   "codemirror_mode": {
    "name": "ipython",
    "version": 3
   },
   "file_extension": ".py",
   "mimetype": "text/x-python",
   "name": "python",
   "nbconvert_exporter": "python",
   "pygments_lexer": "ipython3",
   "version": "3.10.11"
  },
  "orig_nbformat": 4
 },
 "nbformat": 4,
 "nbformat_minor": 2
}
