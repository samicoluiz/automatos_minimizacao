{
 "cells": [
  {
   "cell_type": "code",
   "execution_count": 5,
   "metadata": {},
   "outputs": [
    {
     "name": "stdout",
     "output_type": "stream",
     "text": [
      "M = (Q, Σ, δ, q0, F)\n",
      "Q: {a,b,c}\n",
      "Σ: Alfabeto\n",
      "δ: Função de transição\n",
      "q0: Estado inicial\n",
      "F: Conjunto de estados finais\n",
      "\n"
     ]
    }
   ],
   "source": [
    "estados = ('a', 'b', 'c')\n",
    "print(f\"\"\"\\\n",
    "M = (Q, Σ, δ, q0, F)\n",
    "Q: {{{','.join(estados)}}}\n",
    "Σ: Alfabeto\n",
    "δ: Função de transição\n",
    "q0: Estado inicial\n",
    "F: Conjunto de estados finais\n",
    "\"\"\")\n",
    "\n",
    "def funcao() -> None:\n",
    "    \"\"\"teste de documentacao\"\"\"\n",
    "    pass"
   ]
  },
  {
   "cell_type": "code",
   "execution_count": 6,
   "metadata": {},
   "outputs": [
    {
     "name": "stdout",
     "output_type": "stream",
     "text": [
      "teste de documentacao\n"
     ]
    }
   ],
   "source": [
    "print(funcao.__doc__)"
   ]
  },
  {
   "cell_type": "code",
   "execution_count": 7,
   "metadata": {},
   "outputs": [
    {
     "name": "stdout",
     "output_type": "stream",
     "text": [
      "q2\n"
     ]
    }
   ],
   "source": [
    "dicionario = {\n",
    "    ('q1', 'a'): \"q2\"\n",
    "}\n",
    "\n",
    "print(dicionario[('q1', 'a')])"
   ]
  },
  {
   "cell_type": "code",
   "execution_count": 8,
   "metadata": {},
   "outputs": [
    {
     "ename": "NameError",
     "evalue": "name 'Automato' is not defined",
     "output_type": "error",
     "traceback": [
      "\u001b[0;31m---------------------------------------------------------------------------\u001b[0m",
      "\u001b[0;31mNameError\u001b[0m                                 Traceback (most recent call last)",
      "Cell \u001b[0;32mIn[8], line 1\u001b[0m\n\u001b[0;32m----> 1\u001b[0m \u001b[39mclass\u001b[39;00m \u001b[39mAutomato\u001b[39;00m:\n\u001b[1;32m      2\u001b[0m \u001b[39m    \u001b[39m\u001b[39m\"\"\"Implementa um automato que obedece a seguinte definição:\u001b[39;00m\n\u001b[1;32m      3\u001b[0m \u001b[39m    M = (Q, Σ, δ, q0, F)\u001b[39;00m\n\u001b[1;32m      4\u001b[0m \u001b[39m    Q: Conjunto finito de estados\u001b[39;00m\n\u001b[0;32m   (...)\u001b[0m\n\u001b[1;32m      8\u001b[0m \u001b[39m    F: Conjunto de estados finais\u001b[39;00m\n\u001b[1;32m      9\u001b[0m \u001b[39m    \"\"\"\u001b[39;00m\n\u001b[1;32m     11\u001b[0m     \u001b[39mdef\u001b[39;00m \u001b[39m__init__\u001b[39m(\u001b[39mself\u001b[39m, conj_todos_estados, alfabeto, transicoes,\n\u001b[1;32m     12\u001b[0m                 estado_inicial, conj_estados_finais):\n",
      "Cell \u001b[0;32mIn[8], line 32\u001b[0m, in \u001b[0;36mAutomato\u001b[0;34m()\u001b[0m\n\u001b[1;32m     22\u001b[0m \u001b[39mdef\u001b[39;00m \u001b[39m__repr__\u001b[39m(\u001b[39mself\u001b[39m) \u001b[39m-\u001b[39m\u001b[39m>\u001b[39m \u001b[39mstr\u001b[39m:\n\u001b[1;32m     23\u001b[0m     \u001b[39mreturn\u001b[39;00m \u001b[39mf\u001b[39m\u001b[39m\"\"\"\u001b[39m\u001b[39m\\\u001b[39;00m\n\u001b[1;32m     24\u001b[0m \u001b[39m    M = (Q, Σ, δ, q0, F)\u001b[39m\n\u001b[1;32m     25\u001b[0m \u001b[39m    Q: \u001b[39m\u001b[39m{{\u001b[39;00m\u001b[39m{\u001b[39;00m\u001b[39m'\u001b[39m\u001b[39m,\u001b[39m\u001b[39m'\u001b[39m\u001b[39m.\u001b[39mjoin(estados)\u001b[39m}\u001b[39;00m\u001b[39m}}\u001b[39;00m\n\u001b[0;32m   (...)\u001b[0m\n\u001b[1;32m     29\u001b[0m \u001b[39m    F: \u001b[39m\u001b[39m{\u001b[39;00m\u001b[39mself\u001b[39m\u001b[39m.\u001b[39mestados_finais\u001b[39m}\u001b[39;00m\n\u001b[1;32m     30\u001b[0m \u001b[39m    \u001b[39m\u001b[39m\"\"\"\u001b[39m\n\u001b[0;32m---> 32\u001b[0m \u001b[39mdef\u001b[39;00m \u001b[39m__eq__\u001b[39m(\u001b[39mself\u001b[39m, o: Automato) \u001b[39m-\u001b[39m\u001b[39m>\u001b[39m \u001b[39mbool\u001b[39m:\n\u001b[1;32m     33\u001b[0m     \u001b[39mpass\u001b[39;00m\n\u001b[1;32m     35\u001b[0m \u001b[39mdef\u001b[39;00m \u001b[39mreconhecer_cadeia\u001b[39m(\u001b[39mself\u001b[39m, cadeia) \u001b[39m-\u001b[39m\u001b[39m>\u001b[39m \u001b[39mbool\u001b[39m:\n",
      "\u001b[0;31mNameError\u001b[0m: name 'Automato' is not defined"
     ]
    }
   ],
   "source": [
    "class Automato:\n",
    "    \"\"\"Implementa um automato que obedece a seguinte definição:\n",
    "    M = (Q, Σ, δ, q0, F)\n",
    "    Q: Conjunto finito de estados\n",
    "    Σ: Alfabeto\n",
    "    δ: Função de transição\n",
    "    q0: Estado inicial\n",
    "    F: Conjunto de estados finais\n",
    "    \"\"\"\n",
    "\n",
    "    def __init__(self, conj_todos_estados, alfabeto, transicoes,\n",
    "                estado_inicial, conj_estados_finais):\n",
    "        self.estados: set = conj_todos_estados\n",
    "        self.alfabeto: set = alfabeto\n",
    "        # self.transicoes = transicoes\n",
    "        self.estado_inicial = estado_inicial\n",
    "        self.estados_finais = conj_estados_finais\n",
    "        self.fita = list()\n",
    "        # self.cursor = 0\n",
    "        self.maquina_estados: MaquinaEstados = MaquinaEstados(transicoes, self.estado_inicial, self.estados_finais)\n",
    "\n",
    "    def __repr__(self) -> str:\n",
    "        return f\"\"\"\\\n",
    "        M = (Q, Σ, δ, q0, F)\n",
    "        Q: {{{','.join(estados)}}}\n",
    "        Σ: {{{self.alfabeto}}}\n",
    "        δ: {self.maquina_estados.transicao}\n",
    "        q0: {self.estado_inicial}\n",
    "        F: {self.estados_finais}\n",
    "        \"\"\"\n",
    "    \n",
    "    def __eq__(self, o: Automato) -> bool:\n",
    "        pass\n",
    "\n",
    "    def reconhecer_cadeia(self, cadeia) -> bool:\n",
    "        return self.maquina_estados.reconhecer_cadeia(cadeia)\n",
    "\n",
    "\n",
    "\n",
    "#Maquina de estados\n",
    "class MaquinaEstados():\n",
    "    \n",
    "    def __init__(self, funcao_de_transicao, estado_inicial, estados_finais):\n",
    "        self.transicao = funcao_de_transicao\n",
    "        self.estados_finais = estados_finais\n",
    "        self.estado_inical = estado_inicial\n",
    "        self.__estado_atual = estado_inicial\n",
    "        self.cadeia_restante = None\n",
    "        self.posicao_cursor = 0\n",
    "    \n",
    "    # Opcao com recurcao\n",
    "    def reconhecer_cadeia(self, cadeia):\n",
    "        resultado = False\n",
    "        if (self.__estado_atual, cadeia[0]) in self.transicao.keys():\n",
    "            self.__estado_atual = self.transicao[(self.__estado_atual, cadeia[0])]\n",
    "            self.cadeia_restante = cadeia[1:]\n",
    "            if self.cadeia_restante == \"\":\n",
    "                return True if self.__estado_atual in self.estados_finais else False\n",
    "            else:\n",
    "                resultado = self.reconhecer_cadeia(self.cadeia_restante)\n",
    "        else:            \n",
    "            raise KeyError(\"Transicao nao definida\")\n",
    "        self.__estado_atual = self.estado_inical\n",
    "        return resultado\n"
   ]
  },
  {
   "cell_type": "code",
   "execution_count": null,
   "metadata": {},
   "outputs": [],
   "source": [
    "estados = set([\"q0\", \"q1\", \"q2\", \"q3\"])\n",
    "alfabeto = set(['0', '1', '2'])\n",
    "funcao_de_transicao = {\n",
    "    ('q0', '0'): 'q0',\n",
    "    ('q0', '1'): 'q1',\n",
    "    ('q0', '2'): 'q3',\n",
    "    ('q1', '0'): 'q3',\n",
    "    ('q1', '1'): 'q1',\n",
    "    ('q1', '2'): 'q2',\n",
    "    ('q2', '0'): 'q3',\n",
    "    ('q2', '1'): 'q3',\n",
    "    ('q2', '2'): 'q2',\n",
    "    ('q3', '0'): 'q3',\n",
    "    ('q3', '1'): 'q3',\n",
    "    ('q3', '2'): 'q3',\n",
    "}\n",
    "estado_inicial = 'q0'\n",
    "estados_finais = set(['q1', 'q2'])"
   ]
  },
  {
   "cell_type": "code",
   "execution_count": null,
   "metadata": {},
   "outputs": [],
   "source": [
    "automato_1 = Automato(estados, alfabeto, funcao_de_transicao, estado_inicial, estados_finais)"
   ]
  },
  {
   "cell_type": "code",
   "execution_count": null,
   "metadata": {},
   "outputs": [
    {
     "name": "stdout",
     "output_type": "stream",
     "text": [
      "True\n"
     ]
    }
   ],
   "source": [
    "print(automato_1.reconhecer_cadeia('0001112'))"
   ]
  },
  {
   "cell_type": "code",
   "execution_count": null,
   "metadata": {},
   "outputs": [
    {
     "name": "stdout",
     "output_type": "stream",
     "text": [
      "        M = (Q, Σ, δ, q0, F)\n",
      "        Q: {q2,q3,q1,q0}\n",
      "        Σ: {{'2', '0', '1'}}\n",
      "        δ: {('q0', '0'): 'q0', ('q0', '1'): 'q1', ('q0', '2'): 'q3', ('q1', '0'): 'q3', ('q1', '1'): 'q1', ('q1', '2'): 'q2', ('q2', '0'): 'q3', ('q2', '1'): 'q3', ('q2', '2'): 'q2', ('q3', '0'): 'q3', ('q3', '1'): 'q3', ('q3', '2'): 'q3'}\n",
      "        q0: q0\n",
      "        F: {'q2', 'q1'}\n",
      "        \n"
     ]
    }
   ],
   "source": [
    "print(automato_1)"
   ]
  }
 ],
 "metadata": {
  "kernelspec": {
   "display_name": "base",
   "language": "python",
   "name": "python3"
  },
  "language_info": {
   "codemirror_mode": {
    "name": "ipython",
    "version": 3
   },
   "file_extension": ".py",
   "mimetype": "text/x-python",
   "name": "python",
   "nbconvert_exporter": "python",
   "pygments_lexer": "ipython3",
   "version": "3.10.10"
  },
  "orig_nbformat": 4
 },
 "nbformat": 4,
 "nbformat_minor": 2
}
